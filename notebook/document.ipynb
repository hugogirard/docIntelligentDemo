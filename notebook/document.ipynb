{
 "cells": [
  {
   "cell_type": "markdown",
   "metadata": {},
   "source": [
    "### Step 1 - Install all Python Packages"
   ]
  },
  {
   "cell_type": "code",
   "execution_count": null,
   "metadata": {},
   "outputs": [],
   "source": [
    "%pip install azure-storage-blob==12.22.0\n",
    "%pip install azure-identity==1.17.1\n",
    "%pip install azure-storage-blob==12.22.0\n",
    "%pip install azure-ai-formrecognizer==3.3.3\n",
    "%pip install python-dotenv==1.0.1"
   ]
  },
  {
   "cell_type": "markdown",
   "metadata": {},
   "source": [
    "### Step 2 - Create Azure Client\n",
    "\n",
    "Now we create all client needed for the training and testing of the model"
   ]
  },
  {
   "cell_type": "code",
   "execution_count": 4,
   "metadata": {},
   "outputs": [],
   "source": [
    "import os\n",
    "from dotenv import load_dotenv\n",
    "from azure.storage.blob import BlobServiceClient\n",
    "from azure.ai.formrecognizer import DocumentAnalysisClient\n",
    "from azure.core.credentials import AzureKeyCredential\n",
    "\n",
    "load_dotenv()\n",
    "\n",
    "blob_service_client = BlobServiceClient.from_connection_string(os.getenv('STORAGE_NAME_CNX_STRING'))    \n",
    "\n",
    "creds = AzureKeyCredential(os.environ[\"FORM_RECOGNIZER_KEY\"])\n",
    "\n",
    "document_client = DocumentAnalysisClient(endpoint=os.environ[\"FORM_RECOGNIZER_ENDPOINT\"],credential=creds)"
   ]
  },
  {
   "cell_type": "markdown",
   "metadata": {},
   "source": [
    "### Step 3 - Create a container for training and upload all training assets\n",
    "\n",
    "Create a container for training and upload all training assets\n",
    "\n",
    "One the documents are uploaded, we can start the training process. \n",
    "\n",
    "For this go to https://documentintelligence.ai.azure.com/studio/"
   ]
  },
  {
   "cell_type": "code",
   "execution_count": null,
   "metadata": {},
   "outputs": [],
   "source": [
    "import time\n",
    "\n",
    "container_name=\"training\"\n",
    "\n",
    "container_client = blob_service_client.get_container_client(container_name)\n",
    "\n",
    "if not container_client.exists():\n",
    "    container_client.create_container()\n",
    "    container_client = blob_service_client.get_container_client(container_name)\n",
    "else:\n",
    "    container_client.delete_container()\n",
    "    time.sleep(120) # wait for the container to be deleted before creating it again\n",
    "    blob_service_client.create_container(container_name)\n",
    "    container_client = blob_service_client.get_container_client(container_name)\n",
    "\n",
    "directory_path = \"../documents/training\"\n",
    "\n",
    "for filename in os.listdir(directory_path):\n",
    "    file_path = os.path.join(directory_path, filename)\n",
    "    if os.path.isfile(file_path):\n",
    "        print(filename)\n",
    "        with open(file_path, \"rb\") as data:\n",
    "            container_client.upload_blob(name=filename, data=data)\n",
    "\n",
    "print(\"Now go to Document Intelligence Studio: https://documentintelligence.ai.azure.com/studio/\")\n"
   ]
  },
  {
   "cell_type": "markdown",
   "metadata": {},
   "source": [
    "### Step 4 - Test the custom model\n",
    "\n",
    "**BE SURE TO TRAIN THE MODEL BEFORE RUNNING THIS CELL**\n",
    "\n",
    "Before running this cell train the model using the studio https://documentintelligence.ai.azure.com/studio/ and follow the instruction inside the **README.md** file"
   ]
  },
  {
   "cell_type": "code",
   "execution_count": 22,
   "metadata": {},
   "outputs": [
    {
     "name": "stdout",
     "output_type": "stream",
     "text": [
      "--------Analyzing document #1--------\n",
      "Document has type ModelV1:ModelV1\n",
      "Document has document type confidence 0.857\n",
      "Document was analyzed with model with ID ModelV1\n",
      "......found label 'Objective and Goals' for field of type 'string' with value 'Migrate workflow to cloud native' and with confidence 0.994\n",
      "......found label 'Name of Candidate' for field of type 'string' with value 'Marco Doe' and with confidence 0.991\n",
      "......found label 'Position Applied For' for field of type 'string' with value 'Biztalk Integrator' and with confidence 0.995\n",
      "......found label 'Date of Submission' for field of type 'string' with value '2022-01-01' and with confidence 0.995\n",
      "......found label 'Contact-Number' for field of type 'string' with value '999-999-9999' and with confidence 0.994\n",
      "......found label 'Other Information' for field of type 'string' with value 'None' and with confidence 0.919\n",
      "......found label 'Job Application Id' for field of type 'string' with value '898219022' and with confidence 0.99\n",
      "......found label 'Job Application Type' for field of type 'string' with value 'Biztalk Integrator' and with confidence 0.994\n"
     ]
    }
   ],
   "source": [
    "file_path = \"../documents/test/test1.pdf\"\n",
    "model_name = \"ModelV1\"\n",
    "\n",
    "with open(file_path, \"rb\") as data:\n",
    "   poller = document_client.begin_analyze_document(model_name,data)\n",
    "\n",
    "# Wait for the result, this is for demo purpose only, shouldn't be done in a production\n",
    "# workload.\n",
    "result = poller.result()\n",
    "\n",
    "for idx, document in enumerate(result.documents):\n",
    "    print(f\"--------Analyzing document #{idx + 1}--------\")\n",
    "    print(f\"Document has type {document.doc_type}\")\n",
    "    print(f\"Document has document type confidence {document.confidence}\")\n",
    "    print(f\"Document was analyzed with model with ID {result.model_id}\")\n",
    "    for name, field in document.fields.items():\n",
    "        field_value = field.value if field.value else field.content\n",
    "        print(\n",
    "            f\"......found label '{name}' for field of type '{field.value_type}' with value '{field_value}' and with confidence {field.confidence}\"\n",
    "        )"
   ]
  },
  {
   "cell_type": "markdown",
   "metadata": {},
   "source": [
    "Now, let's test the same but with the prebuild model, not the custom one"
   ]
  },
  {
   "cell_type": "code",
   "execution_count": 21,
   "metadata": {},
   "outputs": [
    {
     "name": "stdout",
     "output_type": "stream",
     "text": [
      "----Key-value pairs found in document----\n",
      "Key 'Job Application Type:': Value: 'Biztalk Integrator'\n",
      "Key 'Name of Candidate:': Value: 'Marco Doe'\n",
      "Key 'Job Application Id:': Value: '898219022'\n",
      "Key 'Date of Submission of Job Application:': Value: '2022-01-01'\n",
      "Key 'Position Applied for:': Value: 'Biztalk Integrator'\n",
      "Key 'Contact Number:': Value: '999-999-9999'\n",
      "Key 'Objectives and Goals:': Value: 'Migrate workflow to cloud native'\n",
      "Key 'Name of Degree': Value: 'Bachelor in Science'\n",
      "Key 'Institution': Value: 'Random University'\n",
      "Key 'Year of Passing\n",
      "Marks Obtained': Value: '1998\n",
      "95'\n",
      "Key 'Name of Company': Value: 'Super Company'\n",
      "Key 'Job Position Held': Value: 'Biztalk Integrator'\n",
      "Key 'Duration of Working': Value: '10 years'\n",
      "Key 'Reasons of Quitting': Value: 'New challenge'\n",
      "Key 'Other Information:': Value:\n",
      "----------------------------------------\n"
     ]
    }
   ],
   "source": [
    "\n",
    "file_path = \"../documents/test/test1.pdf\"\n",
    "model_name = \"prebuilt-document\"\n",
    "\n",
    "with open(file_path, \"rb\") as data:\n",
    "   poller = document_client.begin_analyze_document(model_name,data)\n",
    "\n",
    "# Wait for the result, this is for demo purpose only, shouldn't be done in a production\n",
    "# workload.\n",
    "result = poller.result()\n",
    "\n",
    "\n",
    "print(\"----Key-value pairs found in document----\")\n",
    "for kv_pair in result.key_value_pairs:\n",
    "    if kv_pair.key and kv_pair.value:\n",
    "        print(\"Key '{}': Value: '{}'\".format(kv_pair.key.content, kv_pair.value.content))\n",
    "    else:\n",
    "        print(\"Key '{}': Value:\".format(kv_pair.key.content))\n",
    "\n",
    "print(\"----------------------------------------\")"
   ]
  }
 ],
 "metadata": {
  "kernelspec": {
   "display_name": ".venv",
   "language": "python",
   "name": "python3"
  },
  "language_info": {
   "codemirror_mode": {
    "name": "ipython",
    "version": 3
   },
   "file_extension": ".py",
   "mimetype": "text/x-python",
   "name": "python",
   "nbconvert_exporter": "python",
   "pygments_lexer": "ipython3",
   "version": "3.10.12"
  }
 },
 "nbformat": 4,
 "nbformat_minor": 2
}
